{
 "cells": [
  {
   "cell_type": "code",
   "execution_count": 1,
   "metadata": {},
   "outputs": [
    {
     "name": "stderr",
     "output_type": "stream",
     "text": [
      "/Users/ryankelly/python_projects/wrongbutusefulsbi/.venv/lib/python3.11/site-packages/tqdm/auto.py:21: TqdmWarning: IProgress not found. Please update jupyter and ipywidgets. See https://ipywidgets.readthedocs.io/en/stable/user_install.html\n",
      "  from .autonotebook import tqdm as notebook_tqdm\n"
     ]
    }
   ],
   "source": [
    "from wrongbutusefulsbi.examples.contaminated_normal import true_dgp"
   ]
  },
  {
   "cell_type": "code",
   "execution_count": 2,
   "metadata": {},
   "outputs": [],
   "source": [
    "import jax.random as random\n",
    "import jax.numpy as jnp\n",
    "import numpy as np\n",
    "import matplotlib.pyplot as plt\n"
   ]
  },
  {
   "cell_type": "code",
   "execution_count": 3,
   "metadata": {},
   "outputs": [
    {
     "data": {
      "text/plain": [
       "Array([[-2.05651569e+00,  1.10428953e+00,  2.17362754e-02,\n",
       "         1.46596277e+00,  3.18670154e+00, -3.08845639e-01,\n",
       "         1.54801404e+00,  3.08600593e+00, -1.42459679e+00,\n",
       "         2.15448976e+00, -2.05217981e+00, -1.13619435e+00,\n",
       "         2.46297374e-01,  5.74152350e-01,  5.32851160e-01,\n",
       "        -1.74382985e+00, -1.12360096e+00,  1.00555025e-01,\n",
       "         9.22668517e-01, -1.17273235e+00,  1.33775568e+00,\n",
       "         1.24244380e+00, -1.27543151e-01, -1.11355734e+00,\n",
       "         1.56533325e+00,  9.70920146e-01,  1.57451451e-01,\n",
       "         1.12447393e+00, -2.79638357e-02, -5.75918484e+00,\n",
       "         1.30493250e-02, -5.95559299e-01, -1.16368783e+00,\n",
       "         8.89918149e-01,  2.73090005e-01, -1.66941738e+00,\n",
       "        -1.97329059e-01,  3.89646292e-01,  1.10810888e+00,\n",
       "        -1.37237978e+00, -1.41355717e+00, -4.57426012e-01,\n",
       "         4.69477654e-01, -1.46449938e-01,  1.91234499e-01,\n",
       "         7.43386209e-01,  5.05310178e-01,  2.36015901e-01,\n",
       "        -1.07553482e+00,  4.55367237e-01,  6.61989212e-01,\n",
       "         5.73523110e-03,  8.99021685e-01,  3.37924324e-02,\n",
       "         1.57609570e+00, -4.31603700e-01,  6.88637197e-01,\n",
       "         1.43994582e+00,  1.10729468e+00,  1.80489933e+00,\n",
       "        -8.85940135e-01,  1.61792397e+00, -8.60405043e-02,\n",
       "        -4.88614058e-03,  1.28811300e+00,  6.07871950e-01,\n",
       "        -8.67820799e-01, -6.56107008e-01,  9.06500995e-01,\n",
       "         1.91726595e-01,  1.66536987e-01,  1.57348728e+00,\n",
       "         8.51799786e-01,  1.83861673e+00,  1.54167271e+00,\n",
       "        -3.57118249e-02,  1.18385816e+00,  1.53361309e+00,\n",
       "         2.46834850e+00,  6.59168243e-01,  1.01028538e+00,\n",
       "        -4.33974922e-01,  3.37087423e-01, -3.94434214e-01,\n",
       "        -1.88394517e-01, -1.39071333e+00, -5.01215756e-01,\n",
       "        -1.15094006e+00,  1.31187201e+00,  7.30602026e-01,\n",
       "         9.60102677e-01,  2.76314688e+00, -1.67618603e-01,\n",
       "         1.45299315e+00,  1.15876746e+00,  1.29781651e+00,\n",
       "        -8.85241747e-01,  1.29016328e+00, -5.33908546e-01,\n",
       "        -1.00756598e+00]], dtype=float32)"
      ]
     },
     "execution_count": 3,
     "metadata": {},
     "output_type": "execute_result"
    }
   ],
   "source": [
    "key = random.PRNGKey(0)\n",
    "t1 = jnp.array([0.0])\n",
    "\n",
    "true_dgp(key, t1)"
   ]
  }
 ],
 "metadata": {
  "kernelspec": {
   "display_name": ".venv",
   "language": "python",
   "name": "python3"
  },
  "language_info": {
   "codemirror_mode": {
    "name": "ipython",
    "version": 3
   },
   "file_extension": ".py",
   "mimetype": "text/x-python",
   "name": "python",
   "nbconvert_exporter": "python",
   "pygments_lexer": "ipython3",
   "version": "3.11.7"
  }
 },
 "nbformat": 4,
 "nbformat_minor": 2
}
